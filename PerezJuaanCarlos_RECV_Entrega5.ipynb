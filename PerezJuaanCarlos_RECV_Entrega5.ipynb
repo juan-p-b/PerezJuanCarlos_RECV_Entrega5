{
  "nbformat": 4,
  "nbformat_minor": 0,
  "metadata": {
    "colab": {
      "name": "PerezJuaanCarlos_RECV_Entrega5.ipynb",
      "provenance": [],
      "authorship_tag": "ABX9TyPeQebb1cUQwc/6QpAWc5nY"
    },
    "kernelspec": {
      "name": "python3",
      "display_name": "Python 3"
    },
    "language_info": {
      "name": "python"
    }
  },
  "cells": [
    {
      "cell_type": "markdown",
      "metadata": {
        "id": "ejXKX4TuWzxC"
      },
      "source": [
        "# Entrega 5"
      ]
    },
    {
      "cell_type": "code",
      "metadata": {
        "id": "XrcEMPRLWr9v"
      },
      "source": [
        ""
      ],
      "execution_count": null,
      "outputs": []
    },
    {
      "cell_type": "markdown",
      "metadata": {
        "id": "94gc8WfNWy_Q"
      },
      "source": [
        ""
      ]
    }
  ]
}