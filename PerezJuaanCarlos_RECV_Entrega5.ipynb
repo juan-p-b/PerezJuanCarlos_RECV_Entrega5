{
  "nbformat": 4,
  "nbformat_minor": 0,
  "metadata": {
    "colab": {
      "name": "PerezJuaanCarlos_RECV_Entrega5.ipynb",
      "provenance": [],
      "authorship_tag": "ABX9TyNKd/uxR9yDHx7NsXZ2ct2z"
    },
    "kernelspec": {
      "name": "python3",
      "display_name": "Python 3"
    },
    "language_info": {
      "name": "python"
    }
  },
  "cells": [
    {
      "cell_type": "markdown",
      "metadata": {
        "id": "ejXKX4TuWzxC"
      },
      "source": [
        "# Entrega 5"
      ]
    },
    {
      "cell_type": "code",
      "metadata": {
        "id": "XrcEMPRLWr9v"
      },
      "source": [
        "import torch \n",
        "from glob import glob \n",
        "import numpy as np\n",
        "import matplotlib.pyplot as plt\n"
      ],
      "execution_count": 2,
      "outputs": []
    },
    {
      "cell_type": "code",
      "metadata": {
        "id": "lzU_nfjCtB4b",
        "outputId": "9f91bbd2-620d-40d0-a391-b308aaac0b8d",
        "colab": {
          "base_uri": "https://localhost:8080/"
        }
      },
      "source": [
        ""
      ],
      "execution_count": 16,
      "outputs": [
        {
          "output_type": "stream",
          "text": [
            "Archive:  mnist.zip\n",
            "replace mnist/test/0/10.png? [y]es, [n]o, [A]ll, [N]one, [r]ename: "
          ],
          "name": "stdout"
        }
      ]
    },
    {
      "cell_type": "code",
      "metadata": {
        "id": "v7Qo5mD9tQl5"
      },
      "source": [
        "train_files = glob('./nmist/train/*/*.png')\n",
        "valid_files = glob('./nmist/valid/*/*.png')\n",
        "test_files = glob('./nmist/test/*/*.png')"
      ],
      "execution_count": 17,
      "outputs": []
    },
    {
      "cell_type": "code",
      "metadata": {
        "id": "NOCVdHofYrzT"
      },
      "source": [
        "#--- Modelo\n",
        "imput_dim = 28*28\n",
        "output_dim = 10\n",
        "hidden = 50\n",
        "model = torch.nn.Sequential(\n",
        "    torch.nn.Linear(imput_dim,hidden)\n",
        "    torch.nn.ReLU()\n",
        "    torch.nn.Linear(hidden,hidden)\n",
        "    torch.nn.ReLU()\n",
        "    torch.nn.Linear(hidden,out_dim)\n",
        "\n",
        ")\n",
        "\n",
        "optimizer =  torch.optim.Adam(model.parameters())\n",
        "criterion =  torch.nn.CrossEntropyLoss()\n"
      ],
      "execution_count": null,
      "outputs": []
    },
    {
      "cell_type": "code",
      "metadata": {
        "id": "VUBkCvPQsIqk",
        "outputId": "b8ddfd70-f90b-4cd1-a1d0-68cc5901aaf3",
        "colab": {
          "base_uri": "https://localhost:8080/"
        }
      },
      "source": [
        "valid_files"
      ],
      "execution_count": 19,
      "outputs": [
        {
          "output_type": "execute_result",
          "data": {
            "text/plain": [
              "[]"
            ]
          },
          "metadata": {},
          "execution_count": 19
        }
      ]
    },
    {
      "cell_type": "markdown",
      "metadata": {
        "id": "94gc8WfNWy_Q"
      },
      "source": [
        ""
      ]
    }
  ]
}